{
  "nbformat": 4,
  "nbformat_minor": 0,
  "metadata": {
    "colab": {
      "provenance": []
    },
    "kernelspec": {
      "name": "python3",
      "display_name": "Python 3"
    },
    "language_info": {
      "name": "python"
    }
  },
  "cells": [
    {
      "cell_type": "code",
      "execution_count": 1,
      "metadata": {
        "colab": {
          "base_uri": "https://localhost:8080/"
        },
        "id": "d3seP7Baxp-c",
        "outputId": "17f5a6d0-e5ad-4fb5-9692-dbb478c1ece7"
      },
      "outputs": [
        {
          "output_type": "stream",
          "name": "stdout",
          "text": [
            "請輸入聖誕樹的高度（至少7層以上）：9\n",
            "        *\n",
            "       ***\n",
            "      *****\n",
            "     *******\n",
            "    *********\n",
            "   ***********\n",
            "  *************\n",
            " ***************\n",
            "*****************\n",
            "       ***\n",
            "       ***\n",
            "       ***\n",
            "       ***\n",
            "       ***\n"
          ]
        }
      ],
      "source": [
        "def draw_christmas_tree(height):\n",
        "    if height < 7:\n",
        "        print(\"請輸入至少7層以上的聖誕樹高度！\")\n",
        "        return\n",
        "\n",
        "    for i in range(height):\n",
        "        for j in range(height - i - 1):\n",
        "            print(\" \", end=\"\")\n",
        "        for k in range(2 * i + 1):\n",
        "            print(\"*\", end=\"\")\n",
        "        print()\n",
        "\n",
        "    for i in range(5):\n",
        "        for j in range(height - 2):\n",
        "            print(\" \", end=\"\")\n",
        "        for k in range(3):\n",
        "            print(\"*\", end=\"\")\n",
        "        print()\n",
        "\n",
        "height = int(input(\"請輸入聖誕樹的高度（至少7層以上）：\"))\n",
        "\n",
        "draw_christmas_tree(height)"
      ]
    },
    {
      "cell_type": "code",
      "source": [
        "def calculate_bmi(height, weight):\n",
        "    try:\n",
        "        height = float(height) / 100\n",
        "        weight = float(weight)\n",
        "    except ValueError:\n",
        "        print(\"輸入內容錯誤！請輸入數字。\")\n",
        "        return\n",
        "\n",
        "    bmi = weight / (height ** 2)\n",
        "    return bmi\n",
        "\n",
        "def get_bmi_category(bmi):\n",
        "    if bmi < 18.5:\n",
        "        return \"體重過輕\"\n",
        "    elif bmi < 24:\n",
        "        return \"正常範圍\"\n",
        "    elif bmi < 27:\n",
        "        return \"過重\"\n",
        "    elif bmi < 30:\n",
        "        return \"輕度肥胖\"\n",
        "    elif bmi < 35:\n",
        "        return \"中度肥胖\"\n",
        "    else:\n",
        "        return \"重度肥胖\"\n",
        "\n",
        "height = input(\"請輸入身高（公分）：\")\n",
        "weight = input(\"請輸入體重（公斤）：\")\n",
        "\n",
        "bmi = calculate_bmi(height, weight)\n",
        "\n",
        "if bmi is not None:\n",
        "    category = get_bmi_category(bmi)\n",
        "\n",
        "    print(\"BMI計算結果：\")\n",
        "    print(f\"身高：{height} 公分\")\n",
        "    print(f\"體重：{weight} 公斤\")\n",
        "    print(f\"BMI：{bmi:.2f}\")\n",
        "    print(f\"體位：{category}\")"
      ],
      "metadata": {
        "colab": {
          "base_uri": "https://localhost:8080/"
        },
        "id": "BvkiMP-BykM3",
        "outputId": "ebb745f9-45f0-48c6-8dc6-1f19488d98f2"
      },
      "execution_count": 5,
      "outputs": [
        {
          "output_type": "stream",
          "name": "stdout",
          "text": [
            "請輸入身高（公分）：180\n",
            "請輸入體重（公斤）：q\n",
            "輸入內容錯誤！請輸入數字。\n"
          ]
        }
      ]
    }
  ]
}