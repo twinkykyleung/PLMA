{
  "nbformat": 4,
  "nbformat_minor": 0,
  "metadata": {
    "colab": {
      "provenance": []
    },
    "kernelspec": {
      "name": "python3",
      "display_name": "Python 3"
    },
    "language_info": {
      "name": "python"
    }
  },
  "cells": [
    {
      "cell_type": "code",
      "execution_count": 5,
      "metadata": {
        "colab": {
          "base_uri": "https://localhost:8080/"
        },
        "id": "TiUL2L2vpXKF",
        "outputId": "5057fc50-609a-4c22-f37b-47b0bf8c446d"
      },
      "outputs": [
        {
          "output_type": "stream",
          "name": "stdout",
          "text": [
            "請輸入年份：1996\n",
            "1996 年是閏年\n"
          ]
        }
      ],
      "source": [
        "a = int(input(\"請輸入年份：\"))\n",
        "\n",
        "if a <= 1582:\n",
        "    if a % 4 == 0:\n",
        "        b = True\n",
        "    else:\n",
        "        b = False\n",
        "else:\n",
        "    if a % 4 == 0:\n",
        "        if a % 100 == 0:\n",
        "            if a % 400 == 0:\n",
        "                b = True\n",
        "            else:\n",
        "                b = False\n",
        "        else:\n",
        "            b = True\n",
        "    else:\n",
        "        b = False\n",
        "\n",
        "if b:\n",
        "    print(a, \"年是閏年\")\n",
        "else:\n",
        "    print(a, \"年是平年\")"
      ]
    }
  ]
}