{
  "nbformat": 4,
  "nbformat_minor": 0,
  "metadata": {
    "colab": {
      "provenance": []
    },
    "kernelspec": {
      "name": "python3",
      "display_name": "Python 3"
    },
    "language_info": {
      "name": "python"
    }
  },
  "cells": [
    {
      "cell_type": "code",
      "execution_count": 1,
      "metadata": {
        "colab": {
          "base_uri": "https://localhost:8080/"
        },
        "id": "U6PTXytfjqyH",
        "outputId": "b6642dd6-7ea3-4218-8fec-1d5c426202ea"
      },
      "outputs": [
        {
          "output_type": "stream",
          "name": "stdout",
          "text": [
            "請輸入身高（公尺）：1.6\n",
            "請輸入體重（公斤）：52\n",
            "您的BMI為： 20.312499999999996\n",
            "您的體位為： 適中\n"
          ]
        }
      ],
      "source": [
        "h = float(input(\"請輸入身高（公尺）：\"))\n",
        "w = float(input(\"請輸入體重（公斤）：\"))\n",
        "\n",
        "bmi = w / (h ** 2)\n",
        "\n",
        "if bmi < 18.5:\n",
        "    category = \"過輕\"\n",
        "elif bmi < 24:\n",
        "    category = \"適中\"\n",
        "elif bmi < 27:\n",
        "    category = \"過重\"\n",
        "else:\n",
        "    category = \"肥胖\"\n",
        "\n",
        "print(\"您的BMI為：\", bmi)\n",
        "print(\"您的體位為：\", category)"
      ]
    },
    {
      "cell_type": "code",
      "source": [
        "a = float(input(\"請輸入第一個數字：\"))\n",
        "b = input(\"請輸入運算符號（+,-,*,/）：\")\n",
        "c = float(input(\"請輸入第二個數字：\"))\n",
        "\n",
        "def calculate(a, b, c):\n",
        "    if b == \"+\":\n",
        "        result = a + c\n",
        "    elif b == \"-\":\n",
        "        result = a - c\n",
        "    elif b == \"*\":\n",
        "        result = a * c\n",
        "    elif b == \"/\":\n",
        "        result = a / c\n",
        "    else:\n",
        "        result = \"無效的運算符號\"\n",
        "    return result\n",
        "\n",
        "result = calculate(a, b, c)\n",
        "print(\"運算結果：\", result)"
      ],
      "metadata": {
        "colab": {
          "base_uri": "https://localhost:8080/"
        },
        "id": "3bUItvjelOAA",
        "outputId": "de555209-24fa-4829-9934-c4700f0b2f8b"
      },
      "execution_count": 2,
      "outputs": [
        {
          "output_type": "stream",
          "name": "stdout",
          "text": [
            "請輸入第一個數字：5\n",
            "請輸入運算符號（+,-,*,/）：+\n",
            "請輸入第二個數字：3\n",
            "運算結果： 8.0\n"
          ]
        }
      ]
    }
  ]
}