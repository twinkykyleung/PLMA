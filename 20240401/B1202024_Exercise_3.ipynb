{
  "nbformat": 4,
  "nbformat_minor": 0,
  "metadata": {
    "colab": {
      "provenance": []
    },
    "kernelspec": {
      "name": "python3",
      "display_name": "Python 3"
    },
    "language_info": {
      "name": "python"
    }
  },
  "cells": [
    {
      "cell_type": "code",
      "execution_count": 2,
      "metadata": {
        "colab": {
          "base_uri": "https://localhost:8080/"
        },
        "id": "j7n4pg1cv4St",
        "outputId": "eb7dd0ea-6689-49d1-b6cd-7c8bf6dd29c8"
      },
      "outputs": [
        {
          "output_type": "stream",
          "name": "stdout",
          "text": [
            "字典三中分數的平均： 88.33333333333333\n",
            "字典三內容： {'姓名': '賴宏瑋', '性別': '男', '作業分數': [95, 80, 90], '學號': 'M1129020'}\n",
            "字典四中分數的平均： 88.33333333333333\n",
            "字典四內容： {'姓名': '許珈綺', '性別': '女', '作業分數': [95, 80, 90], '學號': 'M1229001'}\n"
          ]
        }
      ],
      "source": [
        "a={'姓名':'賴宏瑋','性別':'男','作業分數': [95, 100, 90]}\n",
        "\n",
        "b={'學號': 'M1129020'}\n",
        "\n",
        "c={**a, **b}\n",
        "\n",
        "d=c.copy()\n",
        "\n",
        "c['作業分數'][1]=80\n",
        "\n",
        "d['姓名']='許珈綺'\n",
        "d['性別']='女'\n",
        "d['學號']='M1229001'\n",
        "\n",
        "mark3=c['作業分數']\n",
        "average3=sum(mark3)/len(mark3)\n",
        "print(\"字典三中平均分數：\",average3)\n",
        "print(\"字典三內容：\",c)\n",
        "\n",
        "mark4 = d.get('作業分數',[])\n",
        "average4 = sum(mark4)/len(mark4)\n",
        "print(\"字典四中平均分數：\",average4)\n",
        "print(\"字典四內容：\",d)"
      ]
    },
    {
      "cell_type": "code",
      "source": [
        "a=[100,50,45,60,90,95,80,50]\n",
        "\n",
        "a.insert(0, 88)\n",
        "\n",
        "a[2:4]=[70,50]\n",
        "\n",
        "a.remove(50)\n",
        "\n",
        "b=a.pop(0)+a.pop(-1)\n",
        "\n",
        "print(\"結果:\",b)"
      ],
      "metadata": {
        "colab": {
          "base_uri": "https://localhost:8080/"
        },
        "id": "IBhJU6rLlkEX",
        "outputId": "7cc92217-75f3-4914-c81b-e89a8599cfab"
      },
      "execution_count": 4,
      "outputs": [
        {
          "output_type": "stream",
          "name": "stdout",
          "text": [
            "結果: 138\n"
          ]
        }
      ]
    },
    {
      "cell_type": "code",
      "source": [
        "a=347\n",
        "b=3\n",
        "\n",
        "A=a//b\n",
        "B=a%b\n",
        "\n",
        "print(\"商(A):\",A)\n",
        "print(\"餘數(B):\",B)\n",
        "\n",
        "c=A**B\n",
        "\n",
        "print(\"A的B次方結果:\",c)"
      ],
      "metadata": {
        "colab": {
          "base_uri": "https://localhost:8080/"
        },
        "id": "3VYlQUHJnVw4",
        "outputId": "3fe21b80-0858-4d0a-b788-7850715e3846"
      },
      "execution_count": 6,
      "outputs": [
        {
          "output_type": "stream",
          "name": "stdout",
          "text": [
            "商(A): 115\n",
            "餘數(B): 2\n",
            "A的B次方結果: 13225\n"
          ]
        }
      ]
    }
  ]
}