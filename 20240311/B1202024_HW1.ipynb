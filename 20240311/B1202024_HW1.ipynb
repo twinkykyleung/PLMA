{
  "nbformat": 4,
  "nbformat_minor": 0,
  "metadata": {
    "colab": {
      "provenance": []
    },
    "kernelspec": {
      "name": "python3",
      "display_name": "Python 3"
    },
    "language_info": {
      "name": "python"
    }
  },
  "cells": [
    {
      "cell_type": "code",
      "execution_count": 2,
      "metadata": {
        "id": "UQ4pP34wnIvG",
        "colab": {
          "base_uri": "https://localhost:8080/"
        },
        "outputId": "0991638b-f3b3-4f63-dda3-246bddb570f3"
      },
      "outputs": [
        {
          "output_type": "stream",
          "name": "stdout",
          "text": [
            "I'm a student\n"
          ]
        }
      ],
      "source": [
        "a = \"I'm a student\"\n",
        "print(a)"
      ]
    },
    {
      "cell_type": "code",
      "source": [
        "x1 = float(input(\"請輸入座標A的x1值：\"))\n",
        "y1 = float(input(\"請輸入座標A的y1值：\"))\n",
        "x2 = float(input(\"請輸入座標B的x2值：\"))\n",
        "y2 = float(input(\"請輸入座標B的y2值：\"))\n",
        "distance = ((x2-x1)**2+(y2-y1)**2)**0.5\n",
        "\n",
        "print(\"A座標點為\", (x1,y1))\n",
        "print(\"B座標點為\", (x2,y2))\n",
        "print(\"AB之間的距離為：\", distance)"
      ],
      "metadata": {
        "colab": {
          "base_uri": "https://localhost:8080/"
        },
        "id": "g-Apl1AMpiXa",
        "outputId": "abb1305a-39ba-43da-b00f-23b75d5f9446"
      },
      "execution_count": 18,
      "outputs": [
        {
          "output_type": "stream",
          "name": "stdout",
          "text": [
            "請輸入座標A的x1值：7\n",
            "請輸入座標A的y1值：5\n",
            "請輸入座標B的x2值：7\n",
            "請輸入座標B的y2值：8\n",
            "A座標點為 (7.0, 5.0)\n",
            "B座標點為 (7.0, 8.0)\n",
            "AB之間的距離為： 3.0\n"
          ]
        }
      ]
    },
    {
      "cell_type": "code",
      "source": [
        "h = float(input(\"請輸入身高(單位：米)：\"))\n",
        "w = float(input(\"請輸入體重(單位：公斤)：\"))\n",
        "w/=(h**2)\n",
        "print(\"您的BMI為：\", bmi)"
      ],
      "metadata": {
        "colab": {
          "base_uri": "https://localhost:8080/"
        },
        "id": "W7Qs99N6hU7_",
        "outputId": "c3b57e73-c5be-4dc9-fa30-32e8dd87304e"
      },
      "execution_count": 24,
      "outputs": [
        {
          "output_type": "stream",
          "name": "stdout",
          "text": [
            "請輸入身高(單位：米)：1.6\n",
            "請輸入體重(單位：公斤)：52\n",
            "您的BMI為： 20.312499999999996\n"
          ]
        }
      ]
    },
    {
      "cell_type": "code",
      "source": [],
      "metadata": {
        "id": "xQDU92U7zjqF"
      },
      "execution_count": null,
      "outputs": []
    }
  ]
}