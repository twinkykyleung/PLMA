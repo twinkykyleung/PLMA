{
  "nbformat": 4,
  "nbformat_minor": 0,
  "metadata": {
    "colab": {
      "provenance": []
    },
    "kernelspec": {
      "name": "python3",
      "display_name": "Python 3"
    },
    "language_info": {
      "name": "python"
    }
  },
  "cells": [
    {
      "cell_type": "code",
      "execution_count": 7,
      "metadata": {
        "colab": {
          "base_uri": "https://localhost:8080/"
        },
        "id": "-Oa6VSqKm-MF",
        "outputId": "a891b807-bed6-4529-9356-a4201bf852b6"
      },
      "outputs": [
        {
          "output_type": "stream",
          "name": "stdout",
          "text": [
            "1 x 1 = 1   1 x 2 = 2   1 x 3 = 3   1 x 4 = 4   1 x 5 = 5   1 x 6 = 6   1 x 7 = 7   1 x 8 = 8   1 x 9 = 9   \n",
            "2 x 1 = 2   2 x 2 = 4   2 x 3 = 6   2 x 4 = 8   2 x 5 = 10  2 x 6 = 12  2 x 7 = 14  2 x 8 = 16  2 x 9 = 18  \n",
            "3 x 1 = 3   3 x 2 = 6   3 x 3 = 9   3 x 4 = 12  3 x 5 = 15  3 x 6 = 18  3 x 7 = 21  3 x 8 = 24  3 x 9 = 27  \n",
            "4 x 1 = 4   4 x 2 = 8   4 x 3 = 12  4 x 4 = 16  4 x 5 = 20  4 x 6 = 24  4 x 7 = 28  4 x 8 = 32  4 x 9 = 36  \n",
            "5 x 1 = 5   5 x 2 = 10  5 x 3 = 15  5 x 4 = 20  5 x 5 = 25  5 x 6 = 30  5 x 7 = 35  5 x 8 = 40  5 x 9 = 45  \n",
            "6 x 1 = 6   6 x 2 = 12  6 x 3 = 18  6 x 4 = 24  6 x 5 = 30  6 x 6 = 36  6 x 7 = 42  6 x 8 = 48  6 x 9 = 54  \n",
            "7 x 1 = 7   7 x 2 = 14  7 x 3 = 21  7 x 4 = 28  7 x 5 = 35  7 x 6 = 42  7 x 7 = 49  7 x 8 = 56  7 x 9 = 63  \n",
            "8 x 1 = 8   8 x 2 = 16  8 x 3 = 24  8 x 4 = 32  8 x 5 = 40  8 x 6 = 48  8 x 7 = 56  8 x 8 = 64  8 x 9 = 72  \n",
            "9 x 1 = 9   9 x 2 = 18  9 x 3 = 27  9 x 4 = 36  9 x 5 = 45  9 x 6 = 54  9 x 7 = 63  9 x 8 = 72  9 x 9 = 81  \n"
          ]
        }
      ],
      "source": [
        "a = 1\n",
        "while a <= 9:\n",
        "    b = 1\n",
        "    while b <= 9:\n",
        "        result = a * b\n",
        "        if result < 10:\n",
        "          print(f\"{a} x {b} = {result}\", end='   ')\n",
        "        else:\n",
        "          print(f\"{a} x {b} = {result}\", end='  ')\n",
        "\n",
        "        b += 1\n",
        "    print()\n",
        "    a += 1"
      ]
    },
    {
      "cell_type": "code",
      "source": [
        "import random\n",
        "answer = random.sample(range(1, 10), 4)\n",
        "print(answer)\n",
        "x = 0\n",
        "a = b = n = 0\n",
        "\n",
        "while a !=4:\n",
        "    x += 1\n",
        "    a = b = n = 0\n",
        "    guess = list(input(\"輸入四個數字(不會重複):\"))\n",
        "    if len(guess) > 4:\n",
        "         guess = list(input(\"輸入數字過多，請輸入四個數字(不會重複):\"))\n",
        "    else:\n",
        "       guess = guess\n",
        "    for i in guess:\n",
        "          if int(guess[n]) == answer[n]:\n",
        "             a += 1\n",
        "          else:\n",
        "              if int(i) in answer:\n",
        "                 b += 1\n",
        "          n += 1\n",
        "    output = ','.join(guess).replace(',','')\n",
        "    print(f'{output}: {a}A{b}B')\n",
        "print(f\"答對了! 總共猜了 {n} 次\")"
      ],
      "metadata": {
        "colab": {
          "base_uri": "https://localhost:8080/"
        },
        "id": "eKeoW-YTpRdO",
        "outputId": "76a48c64-de68-4f66-ee8e-fc01297839ec"
      },
      "execution_count": 44,
      "outputs": [
        {
          "output_type": "stream",
          "name": "stdout",
          "text": [
            "[8, 6, 2, 3]\n",
            "輸入四個數字(不會重複):1234\n",
            "1234: 0A2B\n",
            "輸入四個數字(不會重複):12345\n",
            "輸入數字過多，請輸入四個數字(不會重複):8823\n",
            "8823: 3A1B\n",
            "輸入四個數字(不會重複):1106\n",
            "1106: 0A1B\n",
            "輸入四個數字(不會重複):8623\n",
            "8623: 4A0B\n",
            "答對了! 總共猜了 4 次\n"
          ]
        }
      ]
    }
  ]
}