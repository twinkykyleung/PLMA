{
  "nbformat": 4,
  "nbformat_minor": 0,
  "metadata": {
    "colab": {
      "provenance": []
    },
    "kernelspec": {
      "name": "python3",
      "display_name": "Python 3"
    },
    "language_info": {
      "name": "python"
    }
  },
  "cells": [
    {
      "cell_type": "code",
      "execution_count": 37,
      "metadata": {
        "colab": {
          "base_uri": "https://localhost:8080/"
        },
        "id": "pYuwAKNUfGOV",
        "outputId": "668c483e-cd2a-46da-81a9-729b1290f750"
      },
      "outputs": [
        {
          "output_type": "stream",
          "name": "stdout",
          "text": [
            "第3個元素： A\n",
            "最後結果： ['K', 'H', 'U']\n"
          ]
        }
      ],
      "source": [
        "a = 'C,B,A'\n",
        "b = ['F', 'G', 'H']\n",
        "\n",
        "a_list = a.split(',')\n",
        "\n",
        "combined_list = a_list+b\n",
        "\n",
        "combined_list[0] = ('K')\n",
        "\n",
        "third = combined_list.pop(2)\n",
        "print(\"第3個元素：\", third)\n",
        "\n",
        "del combined_list[1:4]\n",
        "\n",
        "combined_list.extend('U')\n",
        "\n",
        "print(\"最後結果：\", combined_list)"
      ]
    },
    {
      "cell_type": "code",
      "source": [
        "a = input(\"請輸入一個八位數字：\")\n",
        "print(\"第五個數字的結果：\", a[4])"
      ],
      "metadata": {
        "colab": {
          "base_uri": "https://localhost:8080/"
        },
        "id": "vBfGF1bRffmP",
        "outputId": "a83eb58b-48e0-41c7-8f85-5f8ab34fcf09"
      },
      "execution_count": 38,
      "outputs": [
        {
          "output_type": "stream",
          "name": "stdout",
          "text": [
            "請輸入一個八位數字：20264250\n",
            "第五個數字的結果： 4\n"
          ]
        }
      ]
    },
    {
      "cell_type": "code",
      "source": [
        "a = 'My ID is B1202024'\n",
        "b = a.split(' ')\n",
        "string = len(b)\n",
        "id = len(a[9:])\n",
        "\n",
        "print(\"字串中的字元數量：\", string)\n",
        "print(\"ID中的元素數量：\", id)"
      ],
      "metadata": {
        "colab": {
          "base_uri": "https://localhost:8080/"
        },
        "id": "GRrc_T9YgPXq",
        "outputId": "ad3fbc06-8707-493d-bc16-dce42b82d561"
      },
      "execution_count": 39,
      "outputs": [
        {
          "output_type": "stream",
          "name": "stdout",
          "text": [
            "字串中的字元數量： 4\n",
            "ID中的元素數量： 8\n"
          ]
        }
      ]
    },
    {
      "cell_type": "code",
      "source": [
        "a = \"I'm a student\"\n",
        "a.split(' ')\n",
        "print(str(a[2]))"
      ],
      "metadata": {
        "colab": {
          "base_uri": "https://localhost:8080/"
        },
        "id": "65Rdrx50jiBL",
        "outputId": "ae3345cb-6565-4109-9489-e70ee2b574b7"
      },
      "execution_count": 46,
      "outputs": [
        {
          "output_type": "stream",
          "name": "stdout",
          "text": [
            "m\n"
          ]
        }
      ]
    }
  ]
}